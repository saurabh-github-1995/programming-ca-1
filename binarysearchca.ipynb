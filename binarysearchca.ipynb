{
 "cells": [
  {
   "cell_type": "code",
   "execution_count": 39,
   "metadata": {},
   "outputs": [],
   "source": [
    "'''\n",
    "In this logic I am making use of Binary search which makes it much more efficient than my\n",
    "other logics where i have used recursion.\n",
    "For inserting element even at 10M-1th index it takes much much less time beacuse it directly breaks list into two halves\n",
    "based on the value of current student number.\n",
    "It works at a time coplexity of O(Log n)\n",
    "'''\n",
    "\n",
    "#Array for storing students data in a dictionary format i.e list of dictionaries\n",
    "studentsData=[]\n",
    "\n",
    "#Dictionary for storing data\n",
    "studentObjGlobal={}\n",
    "\n",
    "#Method for finding the index in existing list at which new student will be added\n",
    "def insertDataAtSpecificPostion(targetStudentNo,startIndex,lastIndex):\n",
    "    if(len(studentsData)==0):\n",
    "        studentsData.append(studentObjGlobal)\n",
    "    else:\n",
    "        if(targetStudentNo>studentsData[-1][\"number\"]):\n",
    "            studentsData.append(studentObjGlobal)\n",
    "        else:\n",
    "\n",
    "            if(startIndex>lastIndex):#end-start+1 <= 0:\n",
    "                studentsData.insert(startIndex,studentObjGlobal)\n",
    "                #print(startIndex)\n",
    "                return startIndex\n",
    "            else:\n",
    "                midpointIndex=startIndex+(lastIndex-startIndex)//2\n",
    "                if(studentsData[midpointIndex][\"number\"]==targetStudentNo):\n",
    "                    print(\"Student record with number already exist\")\n",
    "                    return midpointIndex\n",
    "                else:\n",
    "                    if(targetStudentNo<studentsData[midpointIndex][\"number\"]):\n",
    "                        insertDataAtSpecificPostion(targetStudentNo,startIndex,midpointIndex-1)\n",
    "                    else:\n",
    "                        insertDataAtSpecificPostion(targetStudentNo,midpointIndex+1,lastIndex)\n",
    "\n",
    "#this method recieves the dictionary of student and pass it to the above method for inserting in list\n",
    "def addStudentToList(studentObj):\n",
    "    global studentObjGlobal \n",
    "    studentObjGlobal=studentObj\n",
    "    insertDataAtSpecificPostion(studentObj['number'],0,len(studentsData))\n",
    "    \n",
    "#this function returns the first element from list deleting that element\n",
    "#it always returns the 0th index because list is sorted always\n",
    "def retriveStudentData():\n",
    "    if(len(studentsData)!=0):\n",
    "        loweststudent=studentsData[0]\n",
    "        del studentsData[0]\n",
    "        return loweststudent\n",
    "    else:\n",
    "        return \"No Records exists\"\n",
    "        "
   ]
  },
  {
   "cell_type": "code",
   "execution_count": 42,
   "metadata": {},
   "outputs": [
    {
     "name": "stdout",
     "output_type": "stream",
     "text": [
      "11\n"
     ]
    }
   ],
   "source": [
    "'''Logic for generating random student numbers and inserting it into the students list'''\n",
    "from random import randrange\n",
    "for i in range(10):\n",
    "    #print(i)\n",
    "   \n",
    "    student={\"name\":\"Saurabh\",\"number\": randrange(10000000, 99999999),\"grade\":\"56\"}\n",
    "    addStudentToList(student)\n",
    "\n",
    "\n",
    "print(len(studentsData))\n"
   ]
  },
  {
   "cell_type": "code",
   "execution_count": 49,
   "metadata": {},
   "outputs": [
    {
     "name": "stdout",
     "output_type": "stream",
     "text": [
      "Student record with number already exist\n",
      "Wall time: 0 ns\n"
     ]
    }
   ],
   "source": [
    "%%time\n",
    "addStudentToList({\"name\":\"Saurabh\",\"number\":99999991,\"grade\":\"56\"})\n",
    "#Logic for adding new students to the existing list\n"
   ]
  },
  {
   "cell_type": "code",
   "execution_count": 50,
   "metadata": {},
   "outputs": [
    {
     "data": {
      "text/plain": [
       "{'name': 'Saurabh', 'number': 13205552, 'grade': '56'}"
      ]
     },
     "execution_count": 50,
     "metadata": {},
     "output_type": "execute_result"
    }
   ],
   "source": [
    "retriveStudentData()"
   ]
  },
  {
   "cell_type": "code",
   "execution_count": null,
   "metadata": {},
   "outputs": [],
   "source": []
  },
  {
   "cell_type": "code",
   "execution_count": null,
   "metadata": {},
   "outputs": [],
   "source": []
  },
  {
   "cell_type": "code",
   "execution_count": null,
   "metadata": {},
   "outputs": [],
   "source": []
  },
  {
   "cell_type": "code",
   "execution_count": null,
   "metadata": {},
   "outputs": [],
   "source": []
  }
 ],
 "metadata": {
  "kernelspec": {
   "display_name": "Python 3",
   "language": "python",
   "name": "python3"
  },
  "language_info": {
   "codemirror_mode": {
    "name": "ipython",
    "version": 3
   },
   "file_extension": ".py",
   "mimetype": "text/x-python",
   "name": "python",
   "nbconvert_exporter": "python",
   "pygments_lexer": "ipython3",
   "version": "3.7.3"
  }
 },
 "nbformat": 4,
 "nbformat_minor": 2
}
