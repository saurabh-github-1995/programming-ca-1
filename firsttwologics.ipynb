{
 "cells": [
  {
   "cell_type": "code",
   "execution_count": 1,
   "metadata": {},
   "outputs": [],
   "source": [
    "#initializing empty student list which will containe number of dictionaries of student data\n",
    "studentsList=[{\"name\":\"Saurabh\",\"number\":11111111,\"grade\":\"56\"}]\n",
    "\n",
    "#function for sorting student list using bubble sort and recursion\n",
    "def sortList():\n",
    "    length=len(studentsList)\n",
    "    for i in range(length-1):\n",
    "        if(studentsList[i+1][\"number\"]<studentsList[i][\"number\"]):\n",
    "           studentsList[i],studentsList[i+1]=studentsList[i+1],studentsList[i]\n",
    "           sortList()\n",
    "\n",
    "#function for mregisterenig stuentd one at a time\n",
    "def registerStudenrs(student):\n",
    "    \n",
    "    studentsList.append(student)\n",
    "    sortList()\n",
    "    #sortList2(student)\n",
    "\n",
    "#function for student with lowest number\n",
    "def retrive():\n",
    "    return studentsList[0]\n",
    "\n",
    "#Second Logic for sorting\n",
    "def sortList2(student):\n",
    "    if(len(studentsList)!=0 and student[\"number\"]>studentsList[-1][\"number\"] ):\n",
    "       \n",
    "        studentsList.append(student)\n",
    "    else:\n",
    "        for i in range(len(studentsList)):\n",
    "            if(student[\"number\"]<studentsList[i][\"number\"]):\n",
    "                studentsList.insert(i,student)\n",
    "                break;"
   ]
  },
  {
   "cell_type": "code",
   "execution_count": 2,
   "metadata": {},
   "outputs": [],
   "source": [
    "n=11111111\n",
    "for i in range(10):\n",
    "    #print(i)\n",
    "    n=n+i\n",
    "    student={\"name\":\"Saurabh\",\"number\": i,\"grade\":\"56\"}\n",
    "    registerStudenrs(student)"
   ]
  },
  {
   "cell_type": "code",
   "execution_count": 3,
   "metadata": {},
   "outputs": [
    {
     "name": "stdout",
     "output_type": "stream",
     "text": [
      "[{'name': 'Saurabh', 'number': 0, 'grade': '56'}, {'name': 'Saurabh', 'number': 1, 'grade': '56'}, {'name': 'Saurabh', 'number': 2, 'grade': '56'}, {'name': 'Saurabh', 'number': 3, 'grade': '56'}, {'name': 'Saurabh', 'number': 4, 'grade': '56'}, {'name': 'Saurabh', 'number': 5, 'grade': '56'}, {'name': 'Saurabh', 'number': 6, 'grade': '56'}, {'name': 'Saurabh', 'number': 7, 'grade': '56'}, {'name': 'Saurabh', 'number': 8, 'grade': '56'}, {'name': 'Saurabh', 'number': 9, 'grade': '56'}, {'name': 'Saurabh', 'number': 11111111, 'grade': '56'}]\n"
     ]
    }
   ],
   "source": [
    "print((studentsList))"
   ]
  },
  {
   "cell_type": "code",
   "execution_count": 8,
   "metadata": {},
   "outputs": [
    {
     "name": "stdout",
     "output_type": "stream",
     "text": [
      "Wall time: 4.01 ms\n"
     ]
    }
   ],
   "source": [
    "%%time\n",
    "student={\"name\":\"Saurabh\",\"number\":42882,\"grade\":\"56\"}\n",
    "sortList2(student)\n"
   ]
  },
  {
   "cell_type": "code",
   "execution_count": 3,
   "metadata": {},
   "outputs": [
    {
     "name": "stdout",
     "output_type": "stream",
     "text": [
      "408050\n"
     ]
    }
   ],
   "source": [
    "print(len(studentsList))"
   ]
  },
  {
   "cell_type": "code",
   "execution_count": null,
   "metadata": {},
   "outputs": [],
   "source": []
  }
 ],
 "metadata": {
  "kernelspec": {
   "display_name": "Python 3",
   "language": "python",
   "name": "python3"
  },
  "language_info": {
   "codemirror_mode": {
    "name": "ipython",
    "version": 3
   },
   "file_extension": ".py",
   "mimetype": "text/x-python",
   "name": "python",
   "nbconvert_exporter": "python",
   "pygments_lexer": "ipython3",
   "version": "3.7.3"
  }
 },
 "nbformat": 4,
 "nbformat_minor": 2
}
